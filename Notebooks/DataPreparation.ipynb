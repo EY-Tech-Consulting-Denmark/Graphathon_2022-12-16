{
 "cells": [
  {
   "cell_type": "markdown",
   "id": "294a5e8f-2913-47a8-9dc3-60f1d785e095",
   "metadata": {},
   "source": [
    "# Notebook for data preparation"
   ]
  },
  {
   "cell_type": "code",
   "execution_count": null,
   "id": "8f5ead3e-bf6e-4b31-8632-ba05e35b7457",
   "metadata": {},
   "outputs": [],
   "source": [
    "import os\n",
    "import sys\n",
    "import math\n",
    "import scipy as scipy\n",
    "import numpy as np\n",
    "import pandas as pd\n",
    "import matplotlib.pyplot as plt\n",
    "import seaborn as sns\n",
    "\n",
    "%matplotlib inline\n",
    "import warnings\n",
    "warnings.filterwarnings('ignore')\n",
    "warnings.simplefilter('ignore')\n",
    "pd.set_option('display.max_columns',100)"
   ]
  },
  {
   "cell_type": "markdown",
   "id": "dbc81982-4ce4-4f29-bd46-2dcdefc7d14e",
   "metadata": {},
   "source": [
    "### Project Objectives\n",
    "Provider Fraud is one of the biggest problems facing Medicare. According to the government, the total Medicare spending increased exponentially due to frauds in Medicare claims. Healthcare fraud is an organized crime which involves peers of providers, physicians, beneficiaries acting together to make fraud claims.\n",
    "\n",
    "Rigorous analysis of Medicare data has yielded many physicians who indulge in fraud. They adopt ways in which an ambiguous diagnosis code is used to adopt costliest procedures and drugs. Insurance companies are the most vulnerable institutions impacted due to these bad practices. Due to this reason, insurance companies increased their insurance premiums and as result healthcare is becoming costly matter day by day.\n",
    "\n",
    "Healthcare fraud and abuse take many forms. Some of the most common types of frauds by providers are:\n",
    "\n",
    "a) Billing for services that were not provided.\n",
    "\n",
    "b) Duplicate submission of a claim for the same service.\n",
    "\n",
    "c) Misrepresenting the service provided.\n",
    "\n",
    "d) Charging for a more complex or expensive service than was actually provided.\n",
    "\n",
    "e) Billing for a covered service when the service actually provided was not covered.\n",
    "\n",
    "Problem Statement\n",
    "The goal of this project is to \" predict the potentially fraudulent providers \" based on the claims filed by them.along with this, we will also discover important variables helpful in detecting the behaviour of potentially fraud providers. further, we will study fraudulent patterns in the provider's claims to understand the future behaviour of providers.\n",
    "\n",
    "Introduction to the Dataset\n",
    "For the purpose of this project, we are considering Inpatient claims, Outpatient claims and Beneficiary details of each provider. Lets s see their details"
   ]
  },
  {
   "cell_type": "markdown",
   "id": "9a40af4c-8d63-4a16-b49e-1a1fea216736",
   "metadata": {},
   "source": [
    "### Data loading\n",
    "\n",
    "Data are loaded from the public github repository https://github.com/EY-Tech-Consulting-Denmark/Graphathon-ATP/tree/main/Data/raw_data"
   ]
  },
  {
   "cell_type": "code",
   "execution_count": null,
   "id": "fe289084-055d-4f05-be8b-7b81ec11689d",
   "metadata": {},
   "outputs": [],
   "source": [
    "beneficiary = pd.read_csv(\"https://raw.githubusercontent.com/EY-Tech-Consulting-Denmark/Graphathon-ATP/main/Data/raw_data/Train_Beneficiarydata-1542865627584.csv\")\n",
    "inpatient = pd.read_csv(\"https://raw.githubusercontent.com/EY-Tech-Consulting-Denmark/Graphathon-ATP/main/Data/raw_data/Train_Inpatientdata-1542865627584.csv\")\n",
    "label = pd.read_csv(\"https://raw.githubusercontent.com/EY-Tech-Consulting-Denmark/Graphathon-ATP/main/Data/raw_data/Train-1542865627584.csv\")"
   ]
  },
  {
   "cell_type": "markdown",
   "id": "04e91565-2d04-4abb-938f-8e0fbe28958a",
   "metadata": {},
   "source": [
    "#### Label data\n",
    "This is of list historical data about each provider in the overall dataset.  \n",
    "This information will allow for detecting patterns that in the future will help to identify whether new, unfamiliar providers are potentially fraudulent or not.\n"
   ]
  },
  {
   "cell_type": "code",
   "execution_count": null,
   "id": "bce2d06d-eb68-4a64-872e-6c28d88b251d",
   "metadata": {},
   "outputs": [],
   "source": [
    "label.head()"
   ]
  },
  {
   "cell_type": "code",
   "execution_count": null,
   "id": "14944f2a-e6d3-4e45-8865-573a32120ddd",
   "metadata": {},
   "outputs": [],
   "source": [
    "label.shape"
   ]
  },
  {
   "cell_type": "code",
   "execution_count": null,
   "id": "0fb9d6a5-8541-4c37-af50-8efa72873e37",
   "metadata": {},
   "outputs": [],
   "source": [
    "# class imballance check\n",
    "label_overview = label.groupby(\"PotentialFraud\").size()\n",
    "print(label_overview)\n",
    "label_overview.plot(kind='bar')"
   ]
  },
  {
   "cell_type": "markdown",
   "id": "bffe1437-6d62-44c6-a57d-89d705857893",
   "metadata": {
    "tags": []
   },
   "source": [
    "#### Beneficiary data\n",
    "\n",
    "This data contains beneficiary KYC details like health conditions,regioregion they belong to etc.   \n",
    "This dataset contains both patients that were admitted to the hospital and patients who were not admitted to the hospital.  \n",
    "Data about patients who were not admitted to the hospital will be disregarded when merging with the other dataset.  \n"
   ]
  },
  {
   "cell_type": "code",
   "execution_count": null,
   "id": "d20f0e9c-f135-48a1-92e4-cb1b4fa1e0fd",
   "metadata": {},
   "outputs": [],
   "source": [
    "beneficiary.head()"
   ]
  },
  {
   "cell_type": "code",
   "execution_count": null,
   "id": "6f6b9337-68bf-4902-aabe-e4a19aca174c",
   "metadata": {},
   "outputs": [],
   "source": [
    "beneficiary.shape"
   ]
  },
  {
   "cell_type": "code",
   "execution_count": null,
   "id": "d5a8004c-19d0-4516-92b4-154c359cc0c5",
   "metadata": {},
   "outputs": [],
   "source": [
    "beneficiary.describe()"
   ]
  },
  {
   "cell_type": "code",
   "execution_count": null,
   "id": "697d26dd-e882-4a9c-80a6-a3760211b116",
   "metadata": {},
   "outputs": [],
   "source": [
    "# missing values check\n",
    "beneficiary.isna().sum()"
   ]
  },
  {
   "cell_type": "markdown",
   "id": "ff413326-87b8-47af-aed8-b18e250ac842",
   "metadata": {},
   "source": [
    "Missing value of \"DOD\" column imply that the patients is still alive.  \n",
    "The missing values will be replaced with '0' in the Feature engineering process later.  "
   ]
  },
  {
   "cell_type": "markdown",
   "id": "64ac7ad4-6a9f-4542-9073-3bdb27296920",
   "metadata": {},
   "source": [
    "#### Inpatient data\n",
    "This data provides insights about the claims filed for those patients who are admitted in the hospitals. It also provides additional details like their admission and discharge dates and admit diagnosis code.  \n",
    "Later will be this dataset merged with the Beneficiary data dataset presented above.  "
   ]
  },
  {
   "cell_type": "code",
   "execution_count": null,
   "id": "229b1fc6-0c6d-4ebc-b07c-c15c593c9ffe",
   "metadata": {},
   "outputs": [],
   "source": [
    "inpatient.head()"
   ]
  },
  {
   "cell_type": "code",
   "execution_count": null,
   "id": "8ef573de-dda6-476a-80c8-25e406c8a78d",
   "metadata": {},
   "outputs": [],
   "source": [
    "inpatient.shape"
   ]
  },
  {
   "cell_type": "code",
   "execution_count": null,
   "id": "7189b56c-9a2a-40ce-a8f6-49e68e4336fe",
   "metadata": {},
   "outputs": [],
   "source": [
    "inpatient.describe()"
   ]
  },
  {
   "cell_type": "markdown",
   "id": "7a11f637-b54d-495a-9a6e-1cda2ae9cc4f",
   "metadata": {},
   "source": [
    "'ClmProcedureCode_6' column is empty for each row, hence will be dropped in Feature engineering step."
   ]
  },
  {
   "cell_type": "code",
   "execution_count": null,
   "id": "ec1f559c-e852-4ae5-a45e-43bce5e8c213",
   "metadata": {},
   "outputs": [],
   "source": [
    "# missing values check\n",
    "inpatient.isna().sum()"
   ]
  },
  {
   "cell_type": "markdown",
   "id": "3640977b-75ae-4e4c-8d78-739ae0215f21",
   "metadata": {},
   "source": [
    "Bassed on the context the missing values are not errors but simply not present physician/diagnosis/condition/procedure or that there was no deductible amount paid (missing values of 'DeductibleAmtPaid').  \n",
    "Therefor there is no need to apply filling in missing value technique in the Feature engineering step. "
   ]
  },
  {
   "cell_type": "markdown",
   "id": "26a6b8ce-9161-48b6-b935-447c2052c97f",
   "metadata": {},
   "source": [
    "### Merging of the datasets"
   ]
  },
  {
   "cell_type": "markdown",
   "id": "43dafd6f-ab92-4e90-9a77-7a6003a2bd4b",
   "metadata": {},
   "source": [
    "Beneficiary dataset can be merged with the Inpatient dataset on the 'BeneID' column.  \n",
    "In order to keep only patiens admitted to the hospital, inner join will be utilized.  \n",
    "The label dataset will be then added through inner join utilizing 'Provider' column.  "
   ]
  },
  {
   "cell_type": "code",
   "execution_count": null,
   "id": "ed842f90-c0a6-4ca0-8857-e3e20ace85a6",
   "metadata": {},
   "outputs": [],
   "source": [
    "# Merging beneficiary and inpatient datasets\n",
    "data = pd.merge(beneficiary, inpatient, on='BeneID', how='inner')\n",
    "# adding the label\n",
    "data = pd.merge(data, label, on='Provider', how='inner')"
   ]
  },
  {
   "cell_type": "code",
   "execution_count": null,
   "id": "b9cdb6d0-78a6-4f52-8b47-a883f3b3815a",
   "metadata": {},
   "outputs": [],
   "source": [
    "data.shape"
   ]
  },
  {
   "cell_type": "code",
   "execution_count": null,
   "id": "d3ebcf2b-34bc-4b79-9c47-c6becd6d4f40",
   "metadata": {},
   "outputs": [],
   "source": [
    "data.head()"
   ]
  },
  {
   "cell_type": "markdown",
   "id": "a786c801-1520-4f75-a9d1-1c66f16f52f5",
   "metadata": {},
   "source": [
    "### Balancing of the dataset"
   ]
  },
  {
   "cell_type": "markdown",
   "id": "2c218b8b-a8c7-4d07-bb11-4e62d13b4d90",
   "metadata": {},
   "source": [
    "## SMOTE???"
   ]
  },
  {
   "cell_type": "markdown",
   "id": "5b2a832a-4a64-47d0-88d4-d495a357b7f7",
   "metadata": {},
   "source": [
    "### Feature engineering"
   ]
  },
  {
   "cell_type": "code",
   "execution_count": null,
   "id": "6b4e6df9-a2fc-4f61-b258-f2bc75135d27",
   "metadata": {},
   "outputs": [],
   "source": [
    "# data types check\n",
    "data.dtypes"
   ]
  },
  {
   "cell_type": "code",
   "execution_count": null,
   "id": "ecb89f6d-5f1f-4aca-b93c-254426687d10",
   "metadata": {},
   "outputs": [],
   "source": [
    "# Fixing the date columns\n",
    "date_cols = ['DOB', 'ClaimStartDt', 'DOD', 'ClaimEndDt', 'AdmissionDt', 'DischargeDt']\n",
    "for date_col in date_cols:\n",
    "    data[date_col] = pd.to_datetime(data[date_col])\n",
    "data.head()"
   ]
  },
  {
   "cell_type": "code",
   "execution_count": null,
   "id": "07690110-163d-4b46-bb7b-77c4a36b1328",
   "metadata": {},
   "outputs": [],
   "source": [
    "# Dropping column ClmProcedureCode_6 as it is empty for every claim\n",
    "data.drop('ClmProcedureCode_6', axis=1, inplace=True)\n",
    "data.head()"
   ]
  },
  {
   "cell_type": "code",
   "execution_count": null,
   "id": "c9d6ebb5-8f02-469c-a5cd-e652ed95f881",
   "metadata": {},
   "outputs": [],
   "source": [
    "# Fixing procedures codes\n",
    "procedure_cols = ['ClmProcedureCode_1', 'ClmProcedureCode_2', 'ClmProcedureCode_3', 'ClmProcedureCode_4', 'ClmProcedureCode_5']\n",
    "for col in procedure_cols:\n",
    "    data[col] =  data[col].apply(lambda x: \"{:.0f}\".format(x) if x is not None else x)\n",
    "data.head()"
   ]
  },
  {
   "cell_type": "markdown",
   "id": "eac12fe4-d8d2-488b-a320-603da827b3eb",
   "metadata": {},
   "source": [
    "Each patient can make multiple claims and hence the age and information should be calculated on the claim level.  \n",
    "Since the claim can is made while the patient is still alive, the flag whether the customer is dead or not is calculated on a 'patient' level.  \n",
    "For these purposes are utilized columns date of birth ('DOB'), date of death ('DOD') and the date of start of the claim ('ClaimStartDt')"
   ]
  },
  {
   "cell_type": "code",
   "execution_count": null,
   "id": "09669fc1-f96e-461d-8490-e0c318017eec",
   "metadata": {},
   "outputs": [],
   "source": [
    "# adding age of the patient when the claim started column\n",
    "data['Age'] = round(((data['ClaimStartDt'] - data['DOB']).dt.days)/365)\n",
    "# adding whether the patient is dead or not\n",
    "data['IsDead'] = np.where(data['DOD'].isna(), 0, 1)\n",
    "data.head()"
   ]
  },
  {
   "cell_type": "markdown",
   "id": "a4607488-b654-4768-a2d5-7c5d6f335e9a",
   "metadata": {},
   "source": [
    "Out of the provided dates can be calculated number of days the patient spent in the hospital,   \n",
    "how long the claim lasted and whether the claim ended after the patient was already discharged from the hospital."
   ]
  },
  {
   "cell_type": "code",
   "execution_count": null,
   "id": "b2b1a939-468b-4320-a98f-25513845195c",
   "metadata": {},
   "outputs": [],
   "source": [
    "data['DaysAdmitted'] = ((data['DischargeDt'] - data['AdmissionDt']).dt.days)+1\n",
    "data['DaysClaimLasted'] = ((data['ClaimEndDt'] - data['ClaimStartDt']).dt.days)+1\n",
    "data['ClaimEndAfterDischarged'] = np.where(data['ClaimEndDt'] > data['DischargeDt'], 1, 0)\n",
    "data.head()"
   ]
  },
  {
   "cell_type": "code",
   "execution_count": null,
   "id": "c4727594-da90-49e9-9f68-fbd4e74d4539",
   "metadata": {},
   "outputs": [],
   "source": [
    "# replacing missing deductible amount paid with 0\n",
    "data.loc[data['DeductibleAmtPaid'].isnull(), 'DeductibleAmtPaid'] = '0'"
   ]
  },
  {
   "cell_type": "markdown",
   "id": "afd7515f-0eca-40da-9f99-d407aea21660",
   "metadata": {},
   "source": [
    "Physicians codes, diagnosis codes and procedures codes variables has many categories and that is why TotalPhysicians, TotalDiagnosis and TotalProcedures columns are engineered."
   ]
  },
  {
   "cell_type": "code",
   "execution_count": null,
   "id": "d1643ab5-2445-4493-936f-6199e3873a64",
   "metadata": {},
   "outputs": [],
   "source": [
    "# creating helper dataframe to calculate the totals\n",
    "cols= ['AttendingPhysician', 'OperatingPhysician', 'OtherPhysician', \n",
    "       'ClmAdmitDiagnosisCode', 'ClmDiagnosisCode_1', 'ClmDiagnosisCode_10',\n",
    "       'ClmDiagnosisCode_2', 'ClmDiagnosisCode_3', 'ClmDiagnosisCode_4',\n",
    "       'ClmDiagnosisCode_5', 'ClmDiagnosisCode_6', 'ClmDiagnosisCode_7',\n",
    "       'ClmDiagnosisCode_8', 'ClmDiagnosisCode_9', 'ClmProcedureCode_1',\n",
    "       'ClmProcedureCode_2', 'ClmProcedureCode_3', 'ClmProcedureCode_4',\n",
    "       'ClmProcedureCode_5']\n",
    "helper_df = data[cols].copy()\n",
    "# replacing missing values with 0 in the helper dataframe\n",
    "helper_df[cols]= helper_df[cols].replace({np.nan:0})\n",
    "# replacing codes with number 1 for easy counting\n",
    "for i in cols:\n",
    "    helper_df[i][helper_df[i]!=0]= 1\n",
    "helper_df.head(20)"
   ]
  },
  {
   "cell_type": "code",
   "execution_count": null,
   "id": "0b48d50a-83b5-49fa-baa0-0c7c29f1b2c9",
   "metadata": {},
   "outputs": [],
   "source": [
    "helper_df[cols]= helper_df[cols].astype(int)"
   ]
  },
  {
   "cell_type": "code",
   "execution_count": null,
   "id": "b60bf11c-adc8-4072-a533-b7e0a088aa6a",
   "metadata": {},
   "outputs": [],
   "source": [
    "data['TotalDiagnosis']= helper_df['ClmDiagnosisCode_1']+helper_df['ClmDiagnosisCode_10']+ \\\n",
    "helper_df['ClmDiagnosisCode_2']+ helper_df['ClmDiagnosisCode_3']+ helper_df['ClmDiagnosisCode_4']+ \\\n",
    "helper_df['ClmDiagnosisCode_5']+ helper_df['ClmDiagnosisCode_6']+ helper_df['ClmDiagnosisCode_7']+helper_df['ClmDiagnosisCode_8']+ helper_df['ClmDiagnosisCode_9']"
   ]
  },
  {
   "cell_type": "code",
   "execution_count": null,
   "id": "623fa4d1-e911-47dc-9440-eb9b943dd99b",
   "metadata": {},
   "outputs": [],
   "source": [
    "data['TotalProcedures']= helper_df['ClmProcedureCode_1']+helper_df['ClmProcedureCode_2']+helper_df['ClmProcedureCode_3']+ \\\n",
    "helper_df['ClmProcedureCode_4']+ helper_df['ClmProcedureCode_5']"
   ]
  },
  {
   "cell_type": "code",
   "execution_count": null,
   "id": "2b1be030-7cc9-4793-b4a8-9e5db22f4654",
   "metadata": {},
   "outputs": [],
   "source": [
    "data['TotalPhysicians']= helper_df['AttendingPhysician']+helper_df['OperatingPhysician']+ \\\n",
    "                         helper_df['OtherPhysician']"
   ]
  },
  {
   "cell_type": "code",
   "execution_count": null,
   "id": "42ef02ef-3c88-4996-90ec-9f87de905cef",
   "metadata": {},
   "outputs": [],
   "source": [
    "data.head()"
   ]
  },
  {
   "cell_type": "markdown",
   "id": "dff60dee-4057-40ac-b689-218016fcf679",
   "metadata": {},
   "source": [
    "RenalDiseaseIndicator column has 2 values populated in another way compared with other columns, hence the values are replaced with True and False"
   ]
  },
  {
   "cell_type": "code",
   "execution_count": null,
   "id": "19744b47-c6fa-49c7-bbfd-b684770d57ca",
   "metadata": {},
   "outputs": [],
   "source": [
    "# values check\n",
    "data['RenalDiseaseIndicator'].value_counts()"
   ]
  },
  {
   "cell_type": "code",
   "execution_count": null,
   "id": "d6e33be6-cf8a-4202-8781-ccdb052ba0a7",
   "metadata": {},
   "outputs": [],
   "source": [
    "# Value update\n",
    "data['RenalDiseaseIndicator']= data['RenalDiseaseIndicator'].replace({'Y':True,'0':False})\n",
    "data.head()"
   ]
  },
  {
   "cell_type": "code",
   "execution_count": null,
   "id": "99d63018-96e3-4092-8f92-73468d724de3",
   "metadata": {},
   "outputs": [],
   "source": [
    "# Value update\n",
    "data['PotentialFraud']= data['PotentialFraud'].replace({'Yes':1,'No':0})\n",
    "data.head()"
   ]
  },
  {
   "cell_type": "code",
   "execution_count": null,
   "id": "d751f407-7313-48f0-8371-7de069dc61bd",
   "metadata": {},
   "outputs": [],
   "source": [
    "data.columns"
   ]
  },
  {
   "cell_type": "markdown",
   "id": "59d752c0-72c8-4b2f-a9ea-875eb79ab9bc",
   "metadata": {},
   "source": [
    "Values True and False can't be fed into the machine learning algorithm, hence are replaced with 1 and 0 respectively."
   ]
  },
  {
   "cell_type": "code",
   "execution_count": null,
   "id": "43684254-3427-4413-a70c-906a1067bf27",
   "metadata": {},
   "outputs": [],
   "source": [
    "binary_cols = ['ClaimEndAfterDischarged', 'IsDead', 'PotentialFraud', 'RenalDiseaseIndicator']\n",
    "for col in binary_cols:\n",
    "    data[col] = np.where(data[col]==True, 1, 0)\n",
    "data.head()"
   ]
  },
  {
   "cell_type": "code",
   "execution_count": 34,
   "id": "da2604d9-427f-4ab3-aa70-2aae53246d82",
   "metadata": {},
   "outputs": [
    {
     "data": {
      "text/html": [
       "<div>\n",
       "<style scoped>\n",
       "    .dataframe tbody tr th:only-of-type {\n",
       "        vertical-align: middle;\n",
       "    }\n",
       "\n",
       "    .dataframe tbody tr th {\n",
       "        vertical-align: top;\n",
       "    }\n",
       "\n",
       "    .dataframe thead th {\n",
       "        text-align: right;\n",
       "    }\n",
       "</style>\n",
       "<table border=\"1\" class=\"dataframe\">\n",
       "  <thead>\n",
       "    <tr style=\"text-align: right;\">\n",
       "      <th></th>\n",
       "      <th>BeneID</th>\n",
       "      <th>DOB</th>\n",
       "      <th>DOD</th>\n",
       "      <th>Gender</th>\n",
       "      <th>Race</th>\n",
       "      <th>RenalDiseaseIndicator</th>\n",
       "      <th>State</th>\n",
       "      <th>County</th>\n",
       "      <th>NoOfMonths_PartACov</th>\n",
       "      <th>NoOfMonths_PartBCov</th>\n",
       "      <th>ChronicCond_Alzheimer</th>\n",
       "      <th>ChronicCond_Heartfailure</th>\n",
       "      <th>ChronicCond_KidneyDisease</th>\n",
       "      <th>ChronicCond_Cancer</th>\n",
       "      <th>ChronicCond_ObstrPulmonary</th>\n",
       "      <th>ChronicCond_Depression</th>\n",
       "      <th>ChronicCond_Diabetes</th>\n",
       "      <th>ChronicCond_IschemicHeart</th>\n",
       "      <th>ChronicCond_Osteoporasis</th>\n",
       "      <th>ChronicCond_rheumatoidarthritis</th>\n",
       "      <th>ChronicCond_stroke</th>\n",
       "      <th>IPAnnualReimbursementAmt</th>\n",
       "      <th>IPAnnualDeductibleAmt</th>\n",
       "      <th>OPAnnualReimbursementAmt</th>\n",
       "      <th>OPAnnualDeductibleAmt</th>\n",
       "      <th>ClaimID</th>\n",
       "      <th>ClaimStartDt</th>\n",
       "      <th>ClaimEndDt</th>\n",
       "      <th>Provider</th>\n",
       "      <th>InscClaimAmtReimbursed</th>\n",
       "      <th>AttendingPhysician</th>\n",
       "      <th>OperatingPhysician</th>\n",
       "      <th>OtherPhysician</th>\n",
       "      <th>AdmissionDt</th>\n",
       "      <th>ClmAdmitDiagnosisCode</th>\n",
       "      <th>DeductibleAmtPaid</th>\n",
       "      <th>DischargeDt</th>\n",
       "      <th>DiagnosisGroupCode</th>\n",
       "      <th>ClmDiagnosisCode_1</th>\n",
       "      <th>ClmDiagnosisCode_2</th>\n",
       "      <th>ClmDiagnosisCode_3</th>\n",
       "      <th>ClmDiagnosisCode_4</th>\n",
       "      <th>ClmDiagnosisCode_5</th>\n",
       "      <th>ClmDiagnosisCode_6</th>\n",
       "      <th>ClmDiagnosisCode_7</th>\n",
       "      <th>ClmDiagnosisCode_8</th>\n",
       "      <th>ClmDiagnosisCode_9</th>\n",
       "      <th>ClmDiagnosisCode_10</th>\n",
       "      <th>ClmProcedureCode_1</th>\n",
       "      <th>ClmProcedureCode_2</th>\n",
       "      <th>ClmProcedureCode_3</th>\n",
       "      <th>ClmProcedureCode_4</th>\n",
       "      <th>ClmProcedureCode_5</th>\n",
       "      <th>PotentialFraud</th>\n",
       "      <th>Age</th>\n",
       "      <th>IsDead</th>\n",
       "      <th>DaysAdmitted</th>\n",
       "      <th>DaysClaimLasted</th>\n",
       "      <th>ClaimEndAfterDischarged</th>\n",
       "      <th>TotalDiagnosis</th>\n",
       "      <th>TotalProcedures</th>\n",
       "      <th>TotalPhysicians</th>\n",
       "    </tr>\n",
       "  </thead>\n",
       "  <tbody>\n",
       "    <tr>\n",
       "      <th>0</th>\n",
       "      <td>BENE11001</td>\n",
       "      <td>1943-01-01</td>\n",
       "      <td>NaT</td>\n",
       "      <td>1</td>\n",
       "      <td>1</td>\n",
       "      <td>0</td>\n",
       "      <td>39</td>\n",
       "      <td>230</td>\n",
       "      <td>12</td>\n",
       "      <td>12</td>\n",
       "      <td>1</td>\n",
       "      <td>0</td>\n",
       "      <td>1</td>\n",
       "      <td>0</td>\n",
       "      <td>0</td>\n",
       "      <td>1</td>\n",
       "      <td>1</td>\n",
       "      <td>1</td>\n",
       "      <td>0</td>\n",
       "      <td>1</td>\n",
       "      <td>1</td>\n",
       "      <td>36000</td>\n",
       "      <td>3204</td>\n",
       "      <td>60</td>\n",
       "      <td>70</td>\n",
       "      <td>CLM46614</td>\n",
       "      <td>2009-04-12</td>\n",
       "      <td>2009-04-18</td>\n",
       "      <td>PRV55912</td>\n",
       "      <td>26000</td>\n",
       "      <td>PHY390922</td>\n",
       "      <td>NaN</td>\n",
       "      <td>NaN</td>\n",
       "      <td>2009-04-12</td>\n",
       "      <td>7866</td>\n",
       "      <td>1068.0</td>\n",
       "      <td>2009-04-18</td>\n",
       "      <td>201</td>\n",
       "      <td>1970</td>\n",
       "      <td>4019</td>\n",
       "      <td>5853</td>\n",
       "      <td>7843</td>\n",
       "      <td>2768</td>\n",
       "      <td>71590</td>\n",
       "      <td>2724</td>\n",
       "      <td>19889</td>\n",
       "      <td>5849</td>\n",
       "      <td>NaN</td>\n",
       "      <td>NaN</td>\n",
       "      <td>NaN</td>\n",
       "      <td>NaN</td>\n",
       "      <td>NaN</td>\n",
       "      <td>NaN</td>\n",
       "      <td>1</td>\n",
       "      <td>66.0</td>\n",
       "      <td>0</td>\n",
       "      <td>7</td>\n",
       "      <td>7</td>\n",
       "      <td>0</td>\n",
       "      <td>9</td>\n",
       "      <td>0</td>\n",
       "      <td>1</td>\n",
       "    </tr>\n",
       "    <tr>\n",
       "      <th>1</th>\n",
       "      <td>BENE17521</td>\n",
       "      <td>1913-12-01</td>\n",
       "      <td>NaT</td>\n",
       "      <td>2</td>\n",
       "      <td>1</td>\n",
       "      <td>0</td>\n",
       "      <td>39</td>\n",
       "      <td>230</td>\n",
       "      <td>12</td>\n",
       "      <td>12</td>\n",
       "      <td>1</td>\n",
       "      <td>1</td>\n",
       "      <td>1</td>\n",
       "      <td>0</td>\n",
       "      <td>1</td>\n",
       "      <td>0</td>\n",
       "      <td>0</td>\n",
       "      <td>1</td>\n",
       "      <td>0</td>\n",
       "      <td>0</td>\n",
       "      <td>0</td>\n",
       "      <td>19000</td>\n",
       "      <td>1068</td>\n",
       "      <td>100</td>\n",
       "      <td>20</td>\n",
       "      <td>CLM34721</td>\n",
       "      <td>2009-01-20</td>\n",
       "      <td>2009-02-01</td>\n",
       "      <td>PRV55912</td>\n",
       "      <td>19000</td>\n",
       "      <td>PHY349293</td>\n",
       "      <td>PHY370861</td>\n",
       "      <td>PHY363291</td>\n",
       "      <td>2009-01-20</td>\n",
       "      <td>45340</td>\n",
       "      <td>1068.0</td>\n",
       "      <td>2009-02-01</td>\n",
       "      <td>987</td>\n",
       "      <td>4240</td>\n",
       "      <td>2639</td>\n",
       "      <td>2948</td>\n",
       "      <td>40390</td>\n",
       "      <td>45821</td>\n",
       "      <td>28489</td>\n",
       "      <td>5854</td>\n",
       "      <td>2753</td>\n",
       "      <td>E9305</td>\n",
       "      <td>NaN</td>\n",
       "      <td>7769.0</td>\n",
       "      <td>5849.0</td>\n",
       "      <td>NaN</td>\n",
       "      <td>NaN</td>\n",
       "      <td>NaN</td>\n",
       "      <td>1</td>\n",
       "      <td>95.0</td>\n",
       "      <td>0</td>\n",
       "      <td>13</td>\n",
       "      <td>13</td>\n",
       "      <td>0</td>\n",
       "      <td>9</td>\n",
       "      <td>2</td>\n",
       "      <td>3</td>\n",
       "    </tr>\n",
       "    <tr>\n",
       "      <th>2</th>\n",
       "      <td>BENE21718</td>\n",
       "      <td>1922-10-01</td>\n",
       "      <td>NaT</td>\n",
       "      <td>1</td>\n",
       "      <td>1</td>\n",
       "      <td>0</td>\n",
       "      <td>39</td>\n",
       "      <td>600</td>\n",
       "      <td>12</td>\n",
       "      <td>12</td>\n",
       "      <td>0</td>\n",
       "      <td>0</td>\n",
       "      <td>0</td>\n",
       "      <td>0</td>\n",
       "      <td>0</td>\n",
       "      <td>0</td>\n",
       "      <td>0</td>\n",
       "      <td>1</td>\n",
       "      <td>1</td>\n",
       "      <td>0</td>\n",
       "      <td>0</td>\n",
       "      <td>17000</td>\n",
       "      <td>1068</td>\n",
       "      <td>1050</td>\n",
       "      <td>540</td>\n",
       "      <td>CLM72336</td>\n",
       "      <td>2009-10-17</td>\n",
       "      <td>2009-11-04</td>\n",
       "      <td>PRV55912</td>\n",
       "      <td>17000</td>\n",
       "      <td>PHY334706</td>\n",
       "      <td>PHY334706</td>\n",
       "      <td>NaN</td>\n",
       "      <td>2009-10-17</td>\n",
       "      <td>V5789</td>\n",
       "      <td>1068.0</td>\n",
       "      <td>2009-11-04</td>\n",
       "      <td>941</td>\n",
       "      <td>V5789</td>\n",
       "      <td>4168</td>\n",
       "      <td>73313</td>\n",
       "      <td>7812</td>\n",
       "      <td>7993</td>\n",
       "      <td>78830</td>\n",
       "      <td>72273</td>\n",
       "      <td>43812</td>\n",
       "      <td>4019</td>\n",
       "      <td>NaN</td>\n",
       "      <td>9338.0</td>\n",
       "      <td>NaN</td>\n",
       "      <td>NaN</td>\n",
       "      <td>NaN</td>\n",
       "      <td>NaN</td>\n",
       "      <td>1</td>\n",
       "      <td>87.0</td>\n",
       "      <td>0</td>\n",
       "      <td>19</td>\n",
       "      <td>19</td>\n",
       "      <td>0</td>\n",
       "      <td>9</td>\n",
       "      <td>1</td>\n",
       "      <td>2</td>\n",
       "    </tr>\n",
       "    <tr>\n",
       "      <th>3</th>\n",
       "      <td>BENE22934</td>\n",
       "      <td>1930-07-01</td>\n",
       "      <td>NaT</td>\n",
       "      <td>2</td>\n",
       "      <td>1</td>\n",
       "      <td>0</td>\n",
       "      <td>39</td>\n",
       "      <td>280</td>\n",
       "      <td>12</td>\n",
       "      <td>12</td>\n",
       "      <td>0</td>\n",
       "      <td>1</td>\n",
       "      <td>0</td>\n",
       "      <td>0</td>\n",
       "      <td>1</td>\n",
       "      <td>0</td>\n",
       "      <td>1</td>\n",
       "      <td>1</td>\n",
       "      <td>1</td>\n",
       "      <td>1</td>\n",
       "      <td>0</td>\n",
       "      <td>27000</td>\n",
       "      <td>2136</td>\n",
       "      <td>450</td>\n",
       "      <td>160</td>\n",
       "      <td>CLM73394</td>\n",
       "      <td>2009-10-25</td>\n",
       "      <td>2009-10-29</td>\n",
       "      <td>PRV55912</td>\n",
       "      <td>13000</td>\n",
       "      <td>PHY390614</td>\n",
       "      <td>PHY323689</td>\n",
       "      <td>PHY363291</td>\n",
       "      <td>2009-10-25</td>\n",
       "      <td>71946</td>\n",
       "      <td>1068.0</td>\n",
       "      <td>2009-10-29</td>\n",
       "      <td>506</td>\n",
       "      <td>71535</td>\n",
       "      <td>71960</td>\n",
       "      <td>4019</td>\n",
       "      <td>V1202</td>\n",
       "      <td>4240</td>\n",
       "      <td>2449</td>\n",
       "      <td>2768</td>\n",
       "      <td>NaN</td>\n",
       "      <td>NaN</td>\n",
       "      <td>NaN</td>\n",
       "      <td>8154.0</td>\n",
       "      <td>NaN</td>\n",
       "      <td>NaN</td>\n",
       "      <td>NaN</td>\n",
       "      <td>NaN</td>\n",
       "      <td>1</td>\n",
       "      <td>79.0</td>\n",
       "      <td>0</td>\n",
       "      <td>5</td>\n",
       "      <td>5</td>\n",
       "      <td>0</td>\n",
       "      <td>7</td>\n",
       "      <td>1</td>\n",
       "      <td>3</td>\n",
       "    </tr>\n",
       "    <tr>\n",
       "      <th>4</th>\n",
       "      <td>BENE24402</td>\n",
       "      <td>1925-09-01</td>\n",
       "      <td>NaT</td>\n",
       "      <td>2</td>\n",
       "      <td>2</td>\n",
       "      <td>0</td>\n",
       "      <td>39</td>\n",
       "      <td>510</td>\n",
       "      <td>12</td>\n",
       "      <td>12</td>\n",
       "      <td>1</td>\n",
       "      <td>0</td>\n",
       "      <td>0</td>\n",
       "      <td>1</td>\n",
       "      <td>0</td>\n",
       "      <td>0</td>\n",
       "      <td>0</td>\n",
       "      <td>1</td>\n",
       "      <td>0</td>\n",
       "      <td>0</td>\n",
       "      <td>0</td>\n",
       "      <td>3000</td>\n",
       "      <td>1068</td>\n",
       "      <td>8900</td>\n",
       "      <td>740</td>\n",
       "      <td>CLM32911</td>\n",
       "      <td>2009-01-08</td>\n",
       "      <td>2009-01-12</td>\n",
       "      <td>PRV55912</td>\n",
       "      <td>3000</td>\n",
       "      <td>PHY380413</td>\n",
       "      <td>PHY432598</td>\n",
       "      <td>NaN</td>\n",
       "      <td>2009-01-08</td>\n",
       "      <td>1748</td>\n",
       "      <td>1068.0</td>\n",
       "      <td>2009-01-12</td>\n",
       "      <td>593</td>\n",
       "      <td>2330</td>\n",
       "      <td>NaN</td>\n",
       "      <td>NaN</td>\n",
       "      <td>NaN</td>\n",
       "      <td>NaN</td>\n",
       "      <td>NaN</td>\n",
       "      <td>NaN</td>\n",
       "      <td>NaN</td>\n",
       "      <td>NaN</td>\n",
       "      <td>NaN</td>\n",
       "      <td>8543.0</td>\n",
       "      <td>NaN</td>\n",
       "      <td>NaN</td>\n",
       "      <td>NaN</td>\n",
       "      <td>NaN</td>\n",
       "      <td>1</td>\n",
       "      <td>83.0</td>\n",
       "      <td>0</td>\n",
       "      <td>5</td>\n",
       "      <td>5</td>\n",
       "      <td>0</td>\n",
       "      <td>1</td>\n",
       "      <td>1</td>\n",
       "      <td>2</td>\n",
       "    </tr>\n",
       "  </tbody>\n",
       "</table>\n",
       "</div>"
      ],
      "text/plain": [
       "      BeneID        DOB DOD  Gender  Race  RenalDiseaseIndicator  State  \\\n",
       "0  BENE11001 1943-01-01 NaT       1     1                      0     39   \n",
       "1  BENE17521 1913-12-01 NaT       2     1                      0     39   \n",
       "2  BENE21718 1922-10-01 NaT       1     1                      0     39   \n",
       "3  BENE22934 1930-07-01 NaT       2     1                      0     39   \n",
       "4  BENE24402 1925-09-01 NaT       2     2                      0     39   \n",
       "\n",
       "   County  NoOfMonths_PartACov  NoOfMonths_PartBCov  ChronicCond_Alzheimer  \\\n",
       "0     230                   12                   12                      1   \n",
       "1     230                   12                   12                      1   \n",
       "2     600                   12                   12                      0   \n",
       "3     280                   12                   12                      0   \n",
       "4     510                   12                   12                      1   \n",
       "\n",
       "   ChronicCond_Heartfailure  ChronicCond_KidneyDisease  ChronicCond_Cancer  \\\n",
       "0                         0                          1                   0   \n",
       "1                         1                          1                   0   \n",
       "2                         0                          0                   0   \n",
       "3                         1                          0                   0   \n",
       "4                         0                          0                   1   \n",
       "\n",
       "   ChronicCond_ObstrPulmonary  ChronicCond_Depression  ChronicCond_Diabetes  \\\n",
       "0                           0                       1                     1   \n",
       "1                           1                       0                     0   \n",
       "2                           0                       0                     0   \n",
       "3                           1                       0                     1   \n",
       "4                           0                       0                     0   \n",
       "\n",
       "   ChronicCond_IschemicHeart  ChronicCond_Osteoporasis  \\\n",
       "0                          1                         0   \n",
       "1                          1                         0   \n",
       "2                          1                         1   \n",
       "3                          1                         1   \n",
       "4                          1                         0   \n",
       "\n",
       "   ChronicCond_rheumatoidarthritis  ChronicCond_stroke  \\\n",
       "0                                1                   1   \n",
       "1                                0                   0   \n",
       "2                                0                   0   \n",
       "3                                1                   0   \n",
       "4                                0                   0   \n",
       "\n",
       "   IPAnnualReimbursementAmt  IPAnnualDeductibleAmt  OPAnnualReimbursementAmt  \\\n",
       "0                     36000                   3204                        60   \n",
       "1                     19000                   1068                       100   \n",
       "2                     17000                   1068                      1050   \n",
       "3                     27000                   2136                       450   \n",
       "4                      3000                   1068                      8900   \n",
       "\n",
       "   OPAnnualDeductibleAmt   ClaimID ClaimStartDt ClaimEndDt  Provider  \\\n",
       "0                     70  CLM46614   2009-04-12 2009-04-18  PRV55912   \n",
       "1                     20  CLM34721   2009-01-20 2009-02-01  PRV55912   \n",
       "2                    540  CLM72336   2009-10-17 2009-11-04  PRV55912   \n",
       "3                    160  CLM73394   2009-10-25 2009-10-29  PRV55912   \n",
       "4                    740  CLM32911   2009-01-08 2009-01-12  PRV55912   \n",
       "\n",
       "   InscClaimAmtReimbursed AttendingPhysician OperatingPhysician  \\\n",
       "0                   26000          PHY390922                NaN   \n",
       "1                   19000          PHY349293          PHY370861   \n",
       "2                   17000          PHY334706          PHY334706   \n",
       "3                   13000          PHY390614          PHY323689   \n",
       "4                    3000          PHY380413          PHY432598   \n",
       "\n",
       "  OtherPhysician AdmissionDt ClmAdmitDiagnosisCode DeductibleAmtPaid  \\\n",
       "0            NaN  2009-04-12                  7866            1068.0   \n",
       "1      PHY363291  2009-01-20                 45340            1068.0   \n",
       "2            NaN  2009-10-17                 V5789            1068.0   \n",
       "3      PHY363291  2009-10-25                 71946            1068.0   \n",
       "4            NaN  2009-01-08                  1748            1068.0   \n",
       "\n",
       "  DischargeDt DiagnosisGroupCode ClmDiagnosisCode_1 ClmDiagnosisCode_2  \\\n",
       "0  2009-04-18                201               1970               4019   \n",
       "1  2009-02-01                987               4240               2639   \n",
       "2  2009-11-04                941              V5789               4168   \n",
       "3  2009-10-29                506              71535              71960   \n",
       "4  2009-01-12                593               2330                NaN   \n",
       "\n",
       "  ClmDiagnosisCode_3 ClmDiagnosisCode_4 ClmDiagnosisCode_5 ClmDiagnosisCode_6  \\\n",
       "0               5853               7843               2768              71590   \n",
       "1               2948              40390              45821              28489   \n",
       "2              73313               7812               7993              78830   \n",
       "3               4019              V1202               4240               2449   \n",
       "4                NaN                NaN                NaN                NaN   \n",
       "\n",
       "  ClmDiagnosisCode_7 ClmDiagnosisCode_8 ClmDiagnosisCode_9  \\\n",
       "0               2724              19889               5849   \n",
       "1               5854               2753              E9305   \n",
       "2              72273              43812               4019   \n",
       "3               2768                NaN                NaN   \n",
       "4                NaN                NaN                NaN   \n",
       "\n",
       "  ClmDiagnosisCode_10  ClmProcedureCode_1  ClmProcedureCode_2  \\\n",
       "0                 NaN                 NaN                 NaN   \n",
       "1                 NaN              7769.0              5849.0   \n",
       "2                 NaN              9338.0                 NaN   \n",
       "3                 NaN              8154.0                 NaN   \n",
       "4                 NaN              8543.0                 NaN   \n",
       "\n",
       "   ClmProcedureCode_3  ClmProcedureCode_4  ClmProcedureCode_5  PotentialFraud  \\\n",
       "0                 NaN                 NaN                 NaN               1   \n",
       "1                 NaN                 NaN                 NaN               1   \n",
       "2                 NaN                 NaN                 NaN               1   \n",
       "3                 NaN                 NaN                 NaN               1   \n",
       "4                 NaN                 NaN                 NaN               1   \n",
       "\n",
       "    Age  IsDead  DaysAdmitted  DaysClaimLasted  ClaimEndAfterDischarged  \\\n",
       "0  66.0       0             7                7                        0   \n",
       "1  95.0       0            13               13                        0   \n",
       "2  87.0       0            19               19                        0   \n",
       "3  79.0       0             5                5                        0   \n",
       "4  83.0       0             5                5                        0   \n",
       "\n",
       "   TotalDiagnosis  TotalProcedures  TotalPhysicians  \n",
       "0               9                0                1  \n",
       "1               9                2                3  \n",
       "2               9                1                2  \n",
       "3               7                1                3  \n",
       "4               1                1                2  "
      ]
     },
     "execution_count": 34,
     "metadata": {},
     "output_type": "execute_result"
    }
   ],
   "source": [
    "binary_cols = ['ChronicCond_Alzheimer', 'ChronicCond_Heartfailure',\n",
    "       'ChronicCond_KidneyDisease', 'ChronicCond_Cancer',\n",
    "       'ChronicCond_ObstrPulmonary', 'ChronicCond_Depression',\n",
    "       'ChronicCond_Diabetes', 'ChronicCond_IschemicHeart',\n",
    "       'ChronicCond_Osteoporasis', 'ChronicCond_rheumatoidarthritis',\n",
    "       'ChronicCond_stroke']\n",
    "for col in binary_cols:\n",
    "    data[col] = np.where(data[col]==1, 1, 0)\n",
    "data.head()"
   ]
  },
  {
   "cell_type": "markdown",
   "id": "b9d6e0bf-4d5e-439b-993a-98cccdb8db1b",
   "metadata": {},
   "source": [
    "### Data saving"
   ]
  },
  {
   "cell_type": "markdown",
   "id": "a8f9ba82-3ef9-41bc-aaac-129c9b8752fc",
   "metadata": {},
   "source": [
    "The preprocessed data are saved back to github to the separate folder https://raw.githubusercontent.com/EY-Tech-Consulting-Denmark/Graphathon-ATP/main/Data/clean_data.  \n",
    "Data prepared like this will be used to build a graph database and for the machine learning."
   ]
  },
  {
   "cell_type": "code",
   "execution_count": null,
   "id": "a770ae79-e92f-48f8-8d65-5a6fb74a4455",
   "metadata": {},
   "outputs": [],
   "source": [
    "data.to_csv(\"https://raw.githubusercontent.com/EY-Tech-Consulting-Denmark/Graphathon-ATP/main/Data/clean_data/data.csv\", index=False)"
   ]
  },
  {
   "cell_type": "code",
   "execution_count": 1,
   "id": "4a726741-9ca4-4ce6-96fc-4ea46296bc97",
   "metadata": {},
   "outputs": [
    {
     "ename": "NameError",
     "evalue": "name 'data' is not defined",
     "output_type": "error",
     "traceback": [
      "\u001b[1;31m---------------------------------------------------------------------------\u001b[0m",
      "\u001b[1;31mNameError\u001b[0m                                 Traceback (most recent call last)",
      "Input \u001b[1;32mIn [1]\u001b[0m, in \u001b[0;36m<cell line: 1>\u001b[1;34m()\u001b[0m\n\u001b[1;32m----> 1\u001b[0m \u001b[43mdata\u001b[49m\n",
      "\u001b[1;31mNameError\u001b[0m: name 'data' is not defined"
     ]
    }
   ],
   "source": [
    "data"
   ]
  },
  {
   "cell_type": "code",
   "execution_count": null,
   "id": "4d2a5e6c-dc69-4f91-a1a9-84bccbcf9d90",
   "metadata": {},
   "outputs": [],
   "source": []
  }
 ],
 "metadata": {
  "kernelspec": {
   "display_name": "Python 3 (ipykernel)",
   "language": "python",
   "name": "python3"
  },
  "language_info": {
   "codemirror_mode": {
    "name": "ipython",
    "version": 3
   },
   "file_extension": ".py",
   "mimetype": "text/x-python",
   "name": "python",
   "nbconvert_exporter": "python",
   "pygments_lexer": "ipython3",
   "version": "3.9.7"
  }
 },
 "nbformat": 4,
 "nbformat_minor": 5
}
